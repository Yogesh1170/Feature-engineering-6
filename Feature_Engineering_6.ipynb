{
  "nbformat": 4,
  "nbformat_minor": 0,
  "metadata": {
    "colab": {
      "provenance": []
    },
    "kernelspec": {
      "name": "python3",
      "display_name": "Python 3"
    },
    "language_info": {
      "name": "python"
    }
  },
  "cells": [
    {
      "cell_type": "markdown",
      "source": [
        "Q1. Pearson correlation coefficient is a measure of the linear relationship between two variables. Suppose\n",
        "you have collected data on the amount of time students spend studying for an exam and their final exam\n",
        "scores. Calculate the Pearson correlation coefficient between these two variables and interpret the result."
      ],
      "metadata": {
        "id": "G8zOM_a-CCzq"
      }
    },
    {
      "cell_type": "markdown",
      "source": [
        "To calculate the Pearson correlation coefficient between two variables (in this case, the amount of time students spend studying for an exam and their final exam scores), you can follow these steps:\n",
        "\n",
        "1. Calculate the mean (average) of each variable.\n",
        "2. Calculate the difference between each data point and its respective mean for both variables.\n",
        "3. Multiply these differences for each data point and sum them up.\n",
        "4. Calculate the sum of the squared differences from the mean for each variable.\n",
        "5. Calculate the product of the square roots of the sums of squared differences.\n",
        "6. Divide the product from step 5 by the product of the square roots of the sums of squared differences for each variable.\n",
        "\n",
        "Here's a more detailed formula for the Pearson correlation coefficient (r):\n",
        "\n",
        "\\[ r = \\frac{Σ((X_i - X̄)(Y_i - Ȳ))}{√(Σ(X_i - X̄)^2 * Σ(Y_i - Ȳ)^2)} \\]\n",
        "\n",
        "Where:\n",
        "- \\(X_i\\) and \\(Y_i\\) are individual data points for the two variables.\n",
        "- \\(X̄\\) and \\(Ȳ\\) are the means of the two variables.\n",
        "\n",
        "Once you calculate the value of 'r,' it will fall within the range of -1 to 1:\n",
        "\n",
        "- If r = 1, it indicates a perfect positive linear relationship, meaning that as the amount of time spent studying increases, final exam scores also increase.\n",
        "- If r = -1, it indicates a perfect negative linear relationship, meaning that as the amount of time spent studying increases, final exam scores decrease.\n",
        "- If r = 0, it indicates no linear relationship between the two variables.\n",
        "\n",
        "The magnitude of 'r' indicates the strength of the linear relationship. If r is close to 1 or -1, it suggests a strong linear relationship, while values close to 0 suggest a weak or no linear relationship.\n",
        "\n",
        "Interpreting the result:\n",
        "- If you calculate the Pearson correlation coefficient and find it to be close to 1 (positive value), it suggests a strong positive linear relationship between the amount of time spent studying and final exam scores. In other words, students who study more tend to have higher exam scores.\n",
        "\n",
        "- If you calculate the Pearson correlation coefficient and find it to be close to -1 (negative value), it suggests a strong negative linear relationship between the amount of time spent studying and final exam scores. In this case, students who study more tend to have lower exam scores.\n",
        "\n",
        "- If 'r' is close to 0, it indicates that there is no strong linear relationship between the two variables, meaning that the amount of time spent studying does not significantly predict final exam scores.\n",
        "\n",
        "Keep in mind that the Pearson correlation coefficient measures only linear relationships and may not capture more complex associations between variables. Additionally, correlation does not imply causation; a correlation between two variables does not necessarily mean that one variable causes the other."
      ],
      "metadata": {
        "id": "ZvnkOJIvCFMC"
      }
    },
    {
      "cell_type": "markdown",
      "source": [
        "Q2. Spearman's rank correlation is a measure of the monotonic relationship between two variables.\n",
        "Suppose you have collected data on the amount of sleep individuals get each night and their overall job\n",
        "satisfaction level on a scale of 1 to 10. Calculate the Spearman's rank correlation between these two\n",
        "variables and interpret the result."
      ],
      "metadata": {
        "id": "UoWwxGBOCH4V"
      }
    },
    {
      "cell_type": "markdown",
      "source": [
        "Spearman's rank correlation coefficient, denoted as ρ (rho), is a measure of the monotonic relationship between two variables. Monotonic relationships are those in which the variables tend to move in the same direction, but the relationship doesn't necessarily have to be linear.\n",
        "\n",
        "To calculate Spearman's rank correlation coefficient, follow these steps:\n",
        "\n",
        "1. Rank the values of each variable separately. Assign a rank of 1 to the smallest value, 2 to the second smallest, and so on. Ties (equal values) should be given the average rank of the tied values.\n",
        "\n",
        "2. Calculate the difference between the ranks of corresponding pairs of values for each variable.\n",
        "\n",
        "3. Square these differences and calculate the sum of the squared differences.\n",
        "\n",
        "4. Use the formula to calculate Spearman's rank correlation coefficient:\n",
        "\n",
        "\\[ ρ = 1 - \\frac{6Σd^2}{n(n^2 - 1)} \\]\n",
        "\n",
        "Where:\n",
        "- ρ is the Spearman's rank correlation coefficient.\n",
        "- d is the difference between the ranks of corresponding pairs of values.\n",
        "- n is the number of data points.\n",
        "\n",
        "Spearman's rank correlation coefficient can range from -1 to 1:\n",
        "\n",
        "- If ρ = 1, it indicates a perfect positive monotonic relationship, meaning that as the amount of sleep increases, job satisfaction also increases.\n",
        "\n",
        "- If ρ = -1, it indicates a perfect negative monotonic relationship, meaning that as the amount of sleep increases, job satisfaction decreases.\n",
        "\n",
        "- If ρ = 0, it suggests no monotonic relationship between the two variables.\n",
        "\n",
        "Interpreting the result:\n",
        "\n",
        "- If you calculate the Spearman's rank correlation coefficient and find it to be close to 1 (positive value), it suggests a strong positive monotonic relationship between the amount of sleep individuals get and their job satisfaction. In other words, as people get more sleep, their job satisfaction tends to increase.\n",
        "\n",
        "- If you calculate the Spearman's rank correlation coefficient and find it to be close to -1 (negative value), it suggests a strong negative monotonic relationship. This would mean that as people get more sleep, their job satisfaction tends to decrease.\n",
        "\n",
        "- If ρ is close to 0, it indicates that there is no strong monotonic relationship between the two variables, suggesting that the amount of sleep individuals get does not significantly predict their job satisfaction.\n",
        "\n",
        "Spearman's rank correlation is more robust to outliers and does not assume a linear relationship between the variables, making it a useful measure when dealing with ordinal or non-normally distributed data."
      ],
      "metadata": {
        "id": "WLg0kJRMCLx6"
      }
    },
    {
      "cell_type": "markdown",
      "source": [
        "Q3. Suppose you are conducting a study to examine the relationship between the number of hours of\n",
        "exercise per week and body mass index (BMI) in a sample of adults. You collected data on both variables\n",
        "for 50 participants. Calculate the Pearson correlation coefficient and the Spearman's rank correlation\n",
        "between these two variables and compare the results."
      ],
      "metadata": {
        "id": "3vpOAgRzCO5S"
      }
    },
    {
      "cell_type": "markdown",
      "source": [
        "To calculate both the Pearson correlation coefficient and the Spearman's rank correlation for the relationship between the number of hours of exercise per week and body mass index (BMI) in your sample of 50 participants, follow these steps:\n",
        "\n",
        "**Pearson Correlation Coefficient (r):**\n",
        "1. Calculate the mean (average) of the number of hours of exercise per week and the mean of the BMI for your 50 participants.\n",
        "2. Calculate the difference between each data point and its respective mean for both variables.\n",
        "3. Multiply these differences for each data point and sum them up.\n",
        "4. Calculate the sum of the squared differences from the mean for each variable.\n",
        "5. Calculate the product of the square roots of the sums of squared differences.\n",
        "6. Divide the product from step 5 by the product of the square roots of the sums of squared differences for each variable.\n",
        "\n",
        "The formula for Pearson correlation coefficient is:\n",
        "\n",
        "\\[ r = \\frac{Σ((X_i - X̄)(Y_i - Ȳ))}{√(Σ(X_i - X̄)^2 * Σ(Y_i - Ȳ)^2)} \\]\n",
        "\n",
        "Where:\n",
        "- \\(X_i\\) and \\(Y_i\\) are individual data points for the number of hours of exercise and BMI, respectively.\n",
        "- \\(X̄\\) and \\(Ȳ\\) are the means of the two variables.\n",
        "\n",
        "**Spearman's Rank Correlation (ρ):**\n",
        "1. Rank the values of the number of hours of exercise per week and the values of BMI separately. Assign a rank of 1 to the smallest value, 2 to the second smallest, and so on. Ties (equal values) should be given the average rank of the tied values.\n",
        "2. Calculate the difference between the ranks of corresponding pairs of values for both variables.\n",
        "3. Square these differences and calculate the sum of the squared differences.\n",
        "4. Use the formula to calculate Spearman's rank correlation coefficient:\n",
        "\n",
        "\\[ ρ = 1 - \\frac{6Σd^2}{n(n^2 - 1)} \\]\n",
        "\n",
        "Where:\n",
        "- ρ is the Spearman's rank correlation coefficient.\n",
        "- d is the difference between the ranks of corresponding pairs of values.\n",
        "- n is the number of data points.\n",
        "\n",
        "Once you've calculated both the Pearson correlation coefficient (r) and the Spearman's rank correlation (ρ), you can compare the results.\n",
        "\n",
        "Interpretation:\n",
        "- If r and ρ are close to 1, it suggests a strong positive relationship between exercise hours and BMI. This means that as the number of exercise hours per week increases, BMI tends to increase (positive correlation).\n",
        "\n",
        "- If r and ρ are close to -1, it suggests a strong negative relationship between exercise hours and BMI, indicating that as exercise hours increase, BMI tends to decrease (negative correlation).\n",
        "\n",
        "- If both r and ρ are close to 0, it indicates no significant linear or monotonic relationship between the two variables.\n",
        "\n",
        "The difference in results between Pearson and Spearman correlations may occur if the relationship is not strictly linear, or there are outliers in the data. The Spearman correlation is more robust in such cases. Comparing both results will give you a more complete understanding of the relationship between exercise hours and BMI in your sample."
      ],
      "metadata": {
        "id": "6LkbEQhQCTFa"
      }
    },
    {
      "cell_type": "markdown",
      "source": [
        "Q4. A researcher is interested in examining the relationship between the number of hours individuals\n",
        "spend watching television per day and their level of physical activity. The researcher collected data on\n",
        "both variables from a sample of 50 participants. Calculate the Pearson correlation coefficient between\n",
        "these two variables."
      ],
      "metadata": {
        "id": "8cg0LPmcCWXC"
      }
    },
    {
      "cell_type": "markdown",
      "source": [
        "To calculate the Pearson correlation coefficient (r) between the number of hours individuals spend watching television per day and their level of physical activity for your sample of 50 participants, you can follow these steps:\n",
        "\n",
        "1. Calculate the mean (average) of the number of hours spent watching television per day and the mean of the level of physical activity for your 50 participants.\n",
        "2. Calculate the difference between each data point and its respective mean for both variables.\n",
        "3. Multiply these differences for each data point and sum them up.\n",
        "4. Calculate the sum of the squared differences from the mean for each variable.\n",
        "5. Calculate the product of the square roots of the sums of squared differences.\n",
        "6. Divide the product from step 5 by the product of the square roots of the sums of squared differences for each variable.\n",
        "\n",
        "The formula for Pearson correlation coefficient is:\n",
        "\n",
        "\\[ r = \\frac{Σ((X_i - X̄)(Y_i - Ȳ))}{√(Σ(X_i - X̄)^2 * Σ(Y_i - Ȳ)^2)} \\]\n",
        "\n",
        "Where:\n",
        "- \\(X_i\\) and \\(Y_i\\) are individual data points for the number of hours spent watching television per day and the level of physical activity, respectively.\n",
        "- \\(X̄\\) and \\(Ȳ\\) are the means of the two variables.\n",
        "\n",
        "Once you perform these calculations, you will obtain the Pearson correlation coefficient (r), which will indicate the strength and direction of the linear relationship between the number of hours spent watching television per day and the level of physical activity in your sample of 50 participants.\n",
        "\n",
        "- If r is close to 1, it suggests a strong positive linear relationship, meaning that as the number of hours spent watching television per day increases, the level of physical activity also tends to increase.\n",
        "\n",
        "- If r is close to -1, it suggests a strong negative linear relationship, meaning that as the number of hours spent watching television per day increases, the level of physical activity tends to decrease.\n",
        "\n",
        "- If r is close to 0, it indicates no significant linear relationship between the two variables.\n",
        "\n",
        "The interpretation of the result will depend on the actual value of the Pearson correlation coefficient you calculate based on your data."
      ],
      "metadata": {
        "id": "bJ5y5_hACZip"
      }
    },
    {
      "cell_type": "markdown",
      "source": [
        "Q5. A survey was conducted to examine the relationship between age and preference for a particular\n",
        "brand of soft drink. The survey results are shown below:\n",
        "\n",
        "Age(Years)\n",
        "25 Coke\n",
        "42 Pepsi\n",
        "37\n",
        "19\n",
        "31\n",
        "28\n",
        "\n",
        "Mountain dew\n",
        "Coke\n",
        "Pepsi\n",
        "Coke\n",
        "Soft drink Preference"
      ],
      "metadata": {
        "id": "rCSWqe8mCflB"
      }
    },
    {
      "cell_type": "markdown",
      "source": [
        "It appears you have survey data related to participants' ages and their preference for a particular brand of soft drink. The data provided indicates that the soft drink preferences of six individuals are \"Coke,\" \"Pepsi,\" \"Mountain Dew,\" \"Coke,\" \"Pepsi,\" and \"Coke,\" respectively.\n",
        "\n",
        "However, the ages of four participants are given (25, 42, 37, and 19 years), and two participants have missing age information.\n",
        "\n",
        "To examine the relationship between age and soft drink preference, you can start by organizing the data and calculating some descriptive statistics. The first step is to calculate the mean age for each soft drink preference and identify any patterns in the data.\n",
        "\n",
        "Here is the data organized with the mean age for each soft drink preference:\n",
        "\n",
        "- Coke: 25 (mean age)\n",
        "- Pepsi: 42 (mean age)\n",
        "- Mountain Dew: 37 (mean age)\n",
        "\n",
        "Based on this limited dataset, it seems that people who prefer Pepsi tend to be older on average compared to those who prefer Coke or Mountain Dew.\n",
        "\n",
        "To analyze the relationship further, you might want to perform statistical tests and collect more data to draw more meaningful conclusions. The data you have is quite limited, and it may not be sufficient to make definitive claims about the relationship between age and soft drink preference. Additionally, you should account for the missing age information to conduct a more comprehensive analysis."
      ],
      "metadata": {
        "id": "SR3OJwy0CxGY"
      }
    },
    {
      "cell_type": "markdown",
      "source": [
        "Q6. A company is interested in examining the relationship between the number of sales calls made per day\n",
        "and the number of sales made per week. The company collected data on both variables from a sample of\n",
        "30 sales representatives. Calculate the Pearson correlation coefficient between these two variables."
      ],
      "metadata": {
        "id": "UNvXSMbXCzlx"
      }
    },
    {
      "cell_type": "markdown",
      "source": [
        "To calculate the Pearson correlation coefficient (r) between the number of sales calls made per day and the number of sales made per week for your sample of 30 sales representatives, you can follow these steps:\n",
        "\n",
        "1. Calculate the mean (average) of the number of sales calls made per day and the mean of the number of sales made per week for your 30 sales representatives.\n",
        "\n",
        "2. Calculate the difference between each data point and its respective mean for both variables.\n",
        "\n",
        "3. Multiply these differences for each data point and sum them up.\n",
        "\n",
        "4. Calculate the sum of the squared differences from the mean for each variable.\n",
        "\n",
        "5. Calculate the product of the square roots of the sums of squared differences.\n",
        "\n",
        "6. Divide the product from step 5 by the product of the square roots of the sums of squared differences for each variable.\n",
        "\n",
        "The formula for the Pearson correlation coefficient is:\n",
        "\n",
        "\\[ r = \\frac{Σ((X_i - X̄)(Y_i - Ȳ))}{√(Σ(X_i - X̄)^2 * Σ(Y_i - Ȳ)^2)} \\]\n",
        "\n",
        "Where:\n",
        "- \\(X_i\\) and \\(Y_i\\) are individual data points for the number of sales calls made per day and the number of sales made per week, respectively.\n",
        "- \\(X̄\\) and \\(Ȳ\\) are the means of the two variables.\n",
        "\n",
        "Once you perform these calculations, you will obtain the Pearson correlation coefficient (r), which will indicate the strength and direction of the linear relationship between the number of sales calls made per day and the number of sales made per week for your sample of 30 sales representatives.\n",
        "\n",
        "- If r is close to 1, it suggests a strong positive linear relationship, meaning that as the number of sales calls made per day increases, the number of sales made per week also tends to increase.\n",
        "\n",
        "- If r is close to -1, it suggests a strong negative linear relationship, meaning that as the number of sales calls made per day increases, the number of sales made per week tends to decrease.\n",
        "\n",
        "- If r is close to 0, it indicates no significant linear relationship between the two variables.\n",
        "\n",
        "The interpretation of the result will depend on the actual value of the Pearson correlation coefficient you calculate based on your data."
      ],
      "metadata": {
        "id": "5PDmEHAvC3Mv"
      }
    }
  ]
}